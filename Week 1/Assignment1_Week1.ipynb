{
  "nbformat": 4,
  "nbformat_minor": 0,
  "metadata": {
    "colab": {
      "name": "Assignment1_Week1.ipynb",
      "provenance": []
    },
    "kernelspec": {
      "name": "python3",
      "display_name": "Python 3"
    }
  },
  "cells": [
    {
      "cell_type": "code",
      "metadata": {
        "id": "K5YsQvknJ_Ki",
        "colab_type": "code",
        "colab": {}
      },
      "source": [
        "import numpy as np\n",
        "from PIL import Image\n",
        "\n",
        "im = np.array(Image.open('img.jpg').resize((256, 256)))\n",
        "\n",
        "im_i = 255 - im\n",
        "\n",
        "Image.fromarray(im_i).save('img_invert.jpg')\n"
      ],
      "execution_count": 0,
      "outputs": []
    }
  ]
}